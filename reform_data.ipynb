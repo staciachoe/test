{
 "cells": [
  {
   "cell_type": "code",
   "execution_count": 4,
   "metadata": {
    "collapsed": false
   },
   "outputs": [
    {
     "name": "stdout",
     "output_type": "stream",
     "text": [
      "Collecting shared_lib\n"
     ]
    },
    {
     "name": "stderr",
     "output_type": "stream",
     "text": [
      "  Could not find a version that satisfies the requirement shared_lib (from versions: )\n",
      "No matching distribution found for shared_lib\n"
     ]
    }
   ],
   "source": [
    "!pip install shared_lib"
   ]
  },
  {
   "cell_type": "code",
   "execution_count": 5,
   "metadata": {
    "collapsed": true
   },
   "outputs": [],
   "source": [
    "import os"
   ]
  },
  {
   "cell_type": "code",
   "execution_count": 8,
   "metadata": {
    "collapsed": false
   },
   "outputs": [
    {
     "name": "stdout",
     "output_type": "stream",
     "text": [
      "C:\\Users\\stacia\\Documents\\w266\\project\\sequence_tagging\n"
     ]
    }
   ],
   "source": [
    "print(os.getcwd())\n",
    "os.chdir('data/scienceie2017_train/train2')\n",
    "files=os.listdir(os.getcwd())"
   ]
  },
  {
   "cell_type": "code",
   "execution_count": 9,
   "metadata": {
    "collapsed": true
   },
   "outputs": [],
   "source": [
    "files.sort()"
   ]
  },
  {
   "cell_type": "code",
   "execution_count": 10,
   "metadata": {
    "collapsed": false
   },
   "outputs": [
    {
     "data": {
      "text/plain": [
       "'S0003491615000433.ann'"
      ]
     },
     "execution_count": 10,
     "metadata": {},
     "output_type": "execute_result"
    }
   ],
   "source": [
    "files[0]"
   ]
  },
  {
   "cell_type": "code",
   "execution_count": 12,
   "metadata": {
    "collapsed": true
   },
   "outputs": [],
   "source": [
    "paragraph = \"Nuclear theory devoted major efforts since 4 decades to describe thermalization in nuclear reactions, predominantly using semi-classical methods  [13,14,10], in line with similar problems in quantum liquids  [15,16]. There were attempts to develop improved molecular dynamics methods combining quantum features with a semi classical treatment of dynamical correlations  [17,18]. Still, no clear-cut quantum approach is readily available yet, in spite of numerous formal attempts [19,20,10]. The field of clusters and nano structures is far younger but fast developing in relation to the ongoing developments of lasers and imaging techniques. Semiclassical approaches were also considered in the field to include some dynamical corrections  [21,22] and could qualitatively describe dynamical processes. But such approaches are bound to simple metals with sufficiently delocalized wave functions, and thus smooth potentials justifying semiclassical approximations. The case of organic systems, in particular the much celebrated C60   [4,23], cannot be treated this way. Semi classical, and even classical approaches, can be used at very high excitations such as delivered by very intense laser pulses  [2]. In such cases the system is blown up and details of its quantum mechanical features do not matter anymore. But for less violent scenarios, quantum shell effects cannot be ignored.\""
   ]
  },
  {
   "cell_type": "code",
   "execution_count": 15,
   "metadata": {
    "collapsed": false
   },
   "outputs": [
    {
     "name": "stdout",
     "output_type": "stream",
     "text": [
      "T1\tTask 0 14\tNuclear theory\n",
      "\n",
      "T2\tTask 65 79\tthermalization\n",
      "\n",
      "T3\tProcess 65 79\tthermalization\n",
      "\n",
      "T4\tProcess 122 144\tsemi-classical methods\n",
      "\n",
      "T5\tProcess 83 100\tnuclear reactions\n",
      "\n",
      "T6\tMaterial 191 206\tquantum liquids\n",
      "\n",
      "T7\tProcess 248 283\timproved molecular dynamics methods\n",
      "\n",
      "T8\tTask 284 310\tcombining quantum features\n",
      "\n",
      "T9\tTask 495 532\tfield of clusters and nano structures\n",
      "\n",
      "T10\tProcess 611 617\tlasers\n",
      "\n",
      "T11\tProcess 622 640\timaging techniques\n",
      "\n",
      "T12\tProcess 758 801\tqualitatively describe dynamical processes.\n",
      "\n",
      "T13\tMaterial 835 848\tsimple metals\n",
      "\n",
      "T14\tMaterial 835 893\tsimple metals with sufficiently delocalized wave functions\n",
      "\n",
      "T15\tTask 975 990\torganic systems\n",
      "\n",
      "T16\tMaterial 1026 1029\tC60\n",
      "\n",
      "T17\tProcess 1173 1198\tvery intense laser pulses\n",
      "\n",
      "T18\tTask 1261 1288\tquantum mechanical features\n",
      "\n",
      "T19\tProcess 1344 1365\tquantum shell effects\n",
      "\n",
      "T20\tProcess 318 368\tsemi classical treatment of dynamical correlations\n",
      "\n",
      "R1\tHyponym-of Arg1:T20 Arg2:T7\t\n",
      "\n",
      "T21\tProcess 399 415\tquantum approach\n",
      "\n"
     ]
    }
   ],
   "source": [
    "with open(files[0]) as f:\n",
    "    for line in f:\n",
    "        print (line)"
   ]
  },
  {
   "cell_type": "code",
   "execution_count": 91,
   "metadata": {
    "collapsed": true
   },
   "outputs": [],
   "source": [
    "ctags=['LOC', 'PER', 'ORG']\n",
    "stags=['Process', 'Material', 'Task']\n",
    "newtags=zip(stags, ctags)"
   ]
  },
  {
   "cell_type": "code",
   "execution_count": 96,
   "metadata": {
    "collapsed": false
   },
   "outputs": [
    {
     "data": {
      "text/plain": [
       "'PER'"
      ]
     },
     "execution_count": 96,
     "metadata": {},
     "output_type": "execute_result"
    }
   ],
   "source": [
    "[j for i,j in newtags if i=='Material'][0]"
   ]
  },
  {
   "cell_type": "code",
   "execution_count": 35,
   "metadata": {
    "collapsed": false
   },
   "outputs": [
    {
     "name": "stdout",
     "output_type": "stream",
     "text": [
      "S0003491615000433.ann\n"
     ]
    }
   ],
   "source": [
    "print (files[0])\n",
    "\n",
    "outfile = open(\"first.txt\", \"w\")"
   ]
  },
  {
   "cell_type": "code",
   "execution_count": 42,
   "metadata": {
    "collapsed": false
   },
   "outputs": [],
   "source": [
    "ctags=['LOC', 'PER', 'ORG']\n",
    "stags=['Process', 'Material', 'Task']\n",
    "newtags=zip(stags, ctags)\n",
    "\n",
    "outfile = open(\"first.txt\", \"w\")\n",
    "\n",
    "tag_out = []\n",
    "lastind = 0\n",
    "\n",
    "with open(files[0]) as f:\n",
    "    for line in f:\n",
    "        if line.startswith('T'):\n",
    "            tid, t_cinds, _ = line.split('\\t')\n",
    "            tag, start, end = t_cinds.split(' ')\n",
    "            start=int(start)\n",
    "            end=int(end)\n",
    "            if start!=lastind:\n",
    "                owords=paragraph[lastind:start].split(' ')\n",
    "                for oword in owords:\n",
    "                    if oword.strip()!='':\n",
    "                        #tag_out+=[oword +' O']\n",
    "                        outfile.write(oword + ' O\\n')\n",
    "            lastind=end\n",
    "            words=paragraph[start:end].split(' ')\n",
    "            #tag=[j for i,j in newtags if i==tag][0]\n",
    "            for wind in range(len(words)):\n",
    "                if wind==0:\n",
    "                    outfile.write(words[wind] + ' B-'+tag+'\\n')\n",
    "                    #tag_out+=[words[wind] +' B-'+tag]\n",
    "                else:\n",
    "                    outfile.write(words[wind] + ' I-'+tag+'\\n')\n",
    "                    #tag_out+=[words[wind] +' I-'+tag]\n",
    "                    \n",
    "#print (lastind)\n",
    "#print (len(paragraph))\n",
    "#print (paragraph[lastind+1:len(paragraph)])\n",
    "owords=paragraph[lastind+1:len(paragraph)].split(' ')\n",
    "for oword in owords:\n",
    "        if oword.strip()!='':\n",
    "            tag_out+=[oword +' O\\n']\n",
    "            outfile.write(oword + ' O\\n')\n",
    "            \n",
    "outfile.close()"
   ]
  },
  {
   "cell_type": "code",
   "execution_count": 23,
   "metadata": {
    "collapsed": false
   },
   "outputs": [
    {
     "name": "stdout",
     "output_type": "stream",
     "text": [
      "Nuclear theory devoted major efforts since 4 decades to describe thermalization in nuclear reactions, predominantly using semi-classical methods  [13,14,10], in line with similar problems in quantum liquids  [15,16]. There were attempts to develop improved molecular dynamics methods combining quantum features with a semi classical treatment of dynamical correlations  [17,18]. Still, no clear-cut quantum approach is readily available yet, in spite of numerous formal attempts [19,20,10]. The field of clusters and nano structures is far younger but fast developing in relation to the ongoing developments of lasers and imaging techniques. Semiclassical approaches were also considered in the field to include some dynamical corrections  [21,22] and could qualitatively describe dynamical processes. But such approaches are bound to simple metals with sufficiently delocalized wave functions, and thus smooth potentials justifying semiclassical approximations. The case of organic systems, in particular the much celebrated C60   [4,23], cannot be treated this way. Semi classical, and even classical approaches, can be used at very high excitations such as delivered by very intense laser pulses  [2]. In such cases the system is blown up and details of its quantum mechanical features do not matter anymore. But for less violent scenarios, quantum shell effects cannot be ignored.\n"
     ]
    }
   ],
   "source": [
    "print (paragraph)"
   ]
  },
  {
   "cell_type": "code",
   "execution_count": 22,
   "metadata": {
    "collapsed": false
   },
   "outputs": [
    {
     "name": "stdout",
     "output_type": "stream",
     "text": [
      "['Nuclear B-Task', 'theory I-Task', 'devoted O', 'major O', 'efforts O', 'since O', '4 O', 'decades O', 'to O', 'describe O', 'thermalization B-Task', 'thermalization B-Process', 'in O', 'nuclear O', 'reactions, O', 'predominantly O', 'using O', 'semi-classical B-Process', 'methods I-Process', 'nuclear B-Process', 'reactions I-Process', ', O', 'predominantly O', 'using O', 'semi-classical O', 'methods\\xa0 O', '[13,14,10], O', 'in O', 'line O', 'with O', 'similar O', 'problems O', 'in O', 'quantum B-Material', 'liquids I-Material', '[15,16]. O', 'There O', 'were O', 'attempts O', 'to O', 'develop O', 'improved B-Process', 'molecular I-Process', 'dynamics I-Process', 'methods I-Process', 'combining B-Task', 'quantum I-Task', 'features I-Task', 'with O', 'a O', 'semi O', 'classical O', 'treatment O', 'of O', 'dynamical O', 'correlations\\xa0 O', '[17,18]. O', 'Still, O', 'no O', 'clear-cut O', 'quantum O', 'approach O', 'is O', 'readily O', 'available O', 'yet, O', 'in O', 'spite O', 'of O', 'numerous O', 'formal O', 'attempts O', '[19,20,10]. O', 'The O', 'field B-Task', 'of I-Task', 'clusters I-Task', 'and I-Task', 'nano I-Task', 'structures I-Task', 'is O', 'far O', 'younger O', 'but O', 'fast O', 'developing O', 'in O', 'relation O', 'to O', 'the O', 'ongoing O', 'developments O', 'of O', 'lasers B-Process', 'and O', 'imaging B-Process', 'techniques I-Process', '. O', 'Semiclassical O', 'approaches O', 'were O', 'also O', 'considered O', 'in O', 'the O', 'field O', 'to O', 'include O', 'some O', 'dynamical O', 'corrections\\xa0 O', '[21,22] O', 'and O', 'could O', 'qualitatively B-Process', 'describe I-Process', 'dynamical I-Process', 'processes. I-Process', 'But O', 'such O', 'approaches O', 'are O', 'bound O', 'to O', 'simple B-Material', 'metals I-Material', 'simple B-Material', 'metals I-Material', 'with I-Material', 'sufficiently I-Material', 'delocalized I-Material', 'wave I-Material', 'functions I-Material', ', O', 'and O', 'thus O', 'smooth O', 'potentials O', 'justifying O', 'semiclassical O', 'approximations. O', 'The O', 'case O', 'of O', 'organic B-Task', 'systems I-Task', ', O', 'in O', 'particular O', 'the O', 'much O', 'celebrated O', 'C60 B-Material', '[4,23], O', 'cannot O', 'be O', 'treated O', 'this O', 'way. O', 'Semi O', 'classical, O', 'and O', 'even O', 'classical O', 'approaches, O', 'can O', 'be O', 'used O', 'at O', 'very O', 'high O', 'excitations O', 'such O', 'as O', 'delivered O', 'by O', 'very B-Process', 'intense I-Process', 'laser I-Process', 'pulses I-Process', '[2]. O', 'In O', 'such O', 'cases O', 'the O', 'system O', 'is O', 'blown O', 'up O', 'and O', 'details O', 'of O', 'its O', 'quantum B-Task', 'mechanical I-Task', 'features I-Task', 'do O', 'not O', 'matter O', 'anymore. O', 'But O', 'for O', 'less O', 'violent O', 'scenarios, O', 'quantum B-Process', 'shell I-Process', 'effects I-Process', 'semi B-Process', 'classical I-Process', 'treatment I-Process', 'of I-Process', 'dynamical I-Process', 'correlations I-Process', '[17,18]. O', 'Still, O', 'no O', 'clear-cut O', 'quantum B-Process', 'approach I-Process']\n"
     ]
    }
   ],
   "source": [
    "print (tag_out)"
   ]
  },
  {
   "cell_type": "code",
   "execution_count": 98,
   "metadata": {
    "collapsed": true
   },
   "outputs": [],
   "source": [
    "with open('firstann.txt', 'w') as f:\n",
    "    f.write('\\n'.join(tag_out))"
   ]
  },
  {
   "cell_type": "code",
   "execution_count": 7,
   "metadata": {
    "collapsed": false,
    "scrolled": true
   },
   "outputs": [
    {
     "data": {
      "text/plain": [
       "'S0010482516301810.txt'"
      ]
     },
     "execution_count": 7,
     "metadata": {},
     "output_type": "execute_result"
    }
   ],
   "source": [
    "files[1]"
   ]
  },
  {
   "cell_type": "code",
   "execution_count": 10,
   "metadata": {
    "collapsed": true
   },
   "outputs": [],
   "source": [
    "import nltk"
   ]
  },
  {
   "cell_type": "code",
   "execution_count": 11,
   "metadata": {
    "collapsed": false
   },
   "outputs": [
    {
     "name": "stdout",
     "output_type": "stream",
     "text": [
      "[nltk_data] Downloading package punkt to /home/dan/nltk_data...\n",
      "[nltk_data]   Package punkt is already up-to-date!\n"
     ]
    },
    {
     "data": {
      "text/plain": [
       "True"
      ]
     },
     "execution_count": 11,
     "metadata": {},
     "output_type": "execute_result"
    }
   ],
   "source": [
    "nltk.download('punkt')"
   ]
  },
  {
   "cell_type": "code",
   "execution_count": 19,
   "metadata": {
    "collapsed": true
   },
   "outputs": [],
   "source": [
    "with open(files[1]) as f:\n",
    "    for line in f:\n",
    "        paragraph=line.strip()"
   ]
  },
  {
   "cell_type": "code",
   "execution_count": 27,
   "metadata": {
    "collapsed": false,
    "scrolled": true
   },
   "outputs": [
    {
     "data": {
      "text/plain": [
       "['Three-dimensional digital subtraction angiographic (3D-DSA) images from diagnostic cerebral angiography were obtained at least one day prior to embolization in all patients.',\n",
       " 'The raw data of 3D-DSA in a DICOM file were used for creating a 3D model of the target vessel segment.',\n",
       " 'These data were converted to standard triangulation language (STL) surface data as an aggregation of fine triangular meshes using 3D visualization and measurement software (Amira version X, FEI, Burlington, MA, USA).',\n",
       " 'An unstructured computational volumetric mesh was constructed from the triangulated surface.',\n",
       " 'Smoothing and remeshing followed as next steps.',\n",
       " 'The STL file was then transferred to a 3D printer (OBJET30 Pro; Stratasys Ltd., Eden Prairie, MN, USA).',\n",
       " 'The resolution of the build layer was 0.028mm, and the 3D printed vessel model was produced using acrylic resin (Vero).',\n",
       " 'Following immersion in water for a few hours, the surface of the 3D printed model was smoothed by manually removing spicule.']"
      ]
     },
     "execution_count": 27,
     "metadata": {},
     "output_type": "execute_result"
    }
   ],
   "source": [
    "nltk.sent_tokenize(paragraph)"
   ]
  },
  {
   "cell_type": "code",
   "execution_count": 61,
   "metadata": {
    "collapsed": false
   },
   "outputs": [
    {
     "name": "stdout",
     "output_type": "stream",
     "text": [
      "[nltk_data] Downloading package nonbreaking_prefixes to\n",
      "[nltk_data]     /home/dan/nltk_data...\n",
      "[nltk_data]   Unzipping corpora/nonbreaking_prefixes.zip.\n"
     ]
    },
    {
     "data": {
      "text/plain": [
       "True"
      ]
     },
     "execution_count": 61,
     "metadata": {},
     "output_type": "execute_result"
    }
   ],
   "source": [
    "nltk.download('nonbreaking_prefixes')"
   ]
  },
  {
   "cell_type": "code",
   "execution_count": 71,
   "metadata": {
    "collapsed": true
   },
   "outputs": [],
   "source": [
    "from nltk.tokenize.treebank import TreebankWordTokenizer, TreebankWordDetokenizer\n",
    "from nltk.tokenize.moses import MosesTokenizer, MosesDetokenizer\n",
    "td = TreebankWordDetokenizer()\n",
    "tt = TreebankWordTokenizer()\n",
    "md = MosesDetokenizer()\n",
    "mt = MosesTokenizer()"
   ]
  },
  {
   "cell_type": "code",
   "execution_count": 72,
   "metadata": {
    "collapsed": true
   },
   "outputs": [],
   "source": [
    "mtokens=mt.tokenize(paragraph)"
   ]
  },
  {
   "cell_type": "code",
   "execution_count": 76,
   "metadata": {
    "collapsed": false
   },
   "outputs": [
    {
     "data": {
      "text/plain": [
       "180"
      ]
     },
     "execution_count": 76,
     "metadata": {},
     "output_type": "execute_result"
    }
   ],
   "source": [
    "len(mtokens)"
   ]
  },
  {
   "cell_type": "code",
   "execution_count": 78,
   "metadata": {
    "collapsed": false
   },
   "outputs": [
    {
     "data": {
      "text/plain": [
       "[u'Three-dimensional',\n",
       " u'digital',\n",
       " u'subtraction',\n",
       " u'angiographic',\n",
       " u'(',\n",
       " u'3D-DSA',\n",
       " u')',\n",
       " u'images',\n",
       " u'from',\n",
       " u'diagnostic',\n",
       " u'cerebral',\n",
       " u'angiography',\n",
       " u'were',\n",
       " u'obtained',\n",
       " u'at',\n",
       " u'least',\n",
       " u'one',\n",
       " u'day',\n",
       " u'prior',\n",
       " u'to',\n",
       " u'embolization',\n",
       " u'in',\n",
       " u'all',\n",
       " u'patients',\n",
       " u'.',\n",
       " u'The',\n",
       " u'raw',\n",
       " u'data',\n",
       " u'of',\n",
       " u'3D-DSA',\n",
       " u'in',\n",
       " u'a',\n",
       " u'DICOM',\n",
       " u'file',\n",
       " u'were',\n",
       " u'used',\n",
       " u'for',\n",
       " u'creating',\n",
       " u'a',\n",
       " u'3D',\n",
       " u'model',\n",
       " u'of',\n",
       " u'the',\n",
       " u'target',\n",
       " u'vessel',\n",
       " u'segment',\n",
       " u'.',\n",
       " u'These',\n",
       " u'data',\n",
       " u'were',\n",
       " u'converted',\n",
       " u'to',\n",
       " u'standard',\n",
       " u'triangulation',\n",
       " u'language',\n",
       " u'(',\n",
       " u'STL',\n",
       " u')',\n",
       " u'surface',\n",
       " u'data',\n",
       " u'as',\n",
       " u'an',\n",
       " u'aggregation',\n",
       " u'of',\n",
       " u'fine',\n",
       " u'triangular',\n",
       " u'meshes',\n",
       " u'using',\n",
       " u'3D',\n",
       " u'visualization',\n",
       " u'and',\n",
       " u'measurement',\n",
       " u'software',\n",
       " u'(',\n",
       " u'Amira',\n",
       " u'version',\n",
       " u'X',\n",
       " u',',\n",
       " u'FEI',\n",
       " u',',\n",
       " u'Burlington',\n",
       " u',',\n",
       " u'MA',\n",
       " u',',\n",
       " u'USA',\n",
       " u')',\n",
       " u'.',\n",
       " u'An',\n",
       " u'unstructured',\n",
       " u'computational',\n",
       " u'volumetric',\n",
       " u'mesh',\n",
       " u'was',\n",
       " u'constructed',\n",
       " u'from',\n",
       " u'the',\n",
       " u'triangulated',\n",
       " u'surface',\n",
       " u'.',\n",
       " u'Smoothing',\n",
       " u'and',\n",
       " u'remeshing',\n",
       " u'followed',\n",
       " u'as',\n",
       " u'next',\n",
       " u'steps',\n",
       " u'.',\n",
       " u'The',\n",
       " u'STL',\n",
       " u'file',\n",
       " u'was',\n",
       " u'then',\n",
       " u'transferred',\n",
       " u'to',\n",
       " u'a',\n",
       " u'3D',\n",
       " u'printer',\n",
       " u'(',\n",
       " u'OBJET30',\n",
       " u'Pro',\n",
       " u';',\n",
       " u'Stratasys',\n",
       " u'Ltd',\n",
       " u'.',\n",
       " u',',\n",
       " u'Eden',\n",
       " u'Prairie',\n",
       " u',',\n",
       " u'MN',\n",
       " u',',\n",
       " u'USA',\n",
       " u')',\n",
       " u'.',\n",
       " u'The',\n",
       " u'resolution',\n",
       " u'of',\n",
       " u'the',\n",
       " u'build',\n",
       " u'layer',\n",
       " u'was',\n",
       " u'0.028mm',\n",
       " u',',\n",
       " u'and',\n",
       " u'the',\n",
       " u'3D',\n",
       " u'printed',\n",
       " u'vessel',\n",
       " u'model',\n",
       " u'was',\n",
       " u'produced',\n",
       " u'using',\n",
       " u'acrylic',\n",
       " u'resin',\n",
       " u'(',\n",
       " u'Vero',\n",
       " u')',\n",
       " u'.',\n",
       " u'Following',\n",
       " u'immersion',\n",
       " u'in',\n",
       " u'water',\n",
       " u'for',\n",
       " u'a',\n",
       " u'few',\n",
       " u'hours',\n",
       " u',',\n",
       " u'the',\n",
       " u'surface',\n",
       " u'of',\n",
       " u'the',\n",
       " u'3D',\n",
       " u'printed',\n",
       " u'model',\n",
       " u'was',\n",
       " u'smoothed',\n",
       " u'by',\n",
       " u'manually',\n",
       " u'removing',\n",
       " u'spicule',\n",
       " u'.']"
      ]
     },
     "execution_count": 78,
     "metadata": {},
     "output_type": "execute_result"
    }
   ],
   "source": [
    "mtokens"
   ]
  },
  {
   "cell_type": "code",
   "execution_count": 81,
   "metadata": {
    "collapsed": true
   },
   "outputs": [],
   "source": [
    "mmtokens=mt.tokenize(md.detokenize(mtokens, return_str=True))"
   ]
  },
  {
   "cell_type": "code",
   "execution_count": 83,
   "metadata": {
    "collapsed": false
   },
   "outputs": [
    {
     "data": {
      "text/plain": [
       "True"
      ]
     },
     "execution_count": 83,
     "metadata": {},
     "output_type": "execute_result"
    }
   ],
   "source": [
    "md.detokenize(mtokens, return_str=True)==md.detokenize(mmtokens, return_str=True)"
   ]
  },
  {
   "cell_type": "code",
   "execution_count": 21,
   "metadata": {
    "collapsed": false
   },
   "outputs": [
    {
     "data": {
      "text/plain": [
       "['Three-dimensional',\n",
       " 'digital',\n",
       " 'subtraction',\n",
       " 'angiographic',\n",
       " '(3D-DSA)',\n",
       " 'images',\n",
       " 'from',\n",
       " 'diagnostic',\n",
       " 'cerebral',\n",
       " 'angiography',\n",
       " 'were',\n",
       " 'obtained',\n",
       " 'at',\n",
       " 'least',\n",
       " 'one',\n",
       " 'day',\n",
       " 'prior',\n",
       " 'to',\n",
       " 'embolization',\n",
       " 'in',\n",
       " 'all',\n",
       " 'patients.',\n",
       " 'The',\n",
       " 'raw',\n",
       " 'data',\n",
       " 'of',\n",
       " '3D-DSA',\n",
       " 'in',\n",
       " 'a',\n",
       " 'DICOM',\n",
       " 'file',\n",
       " 'were',\n",
       " 'used',\n",
       " 'for',\n",
       " 'creating',\n",
       " 'a',\n",
       " '3D',\n",
       " 'model',\n",
       " 'of',\n",
       " 'the',\n",
       " 'target',\n",
       " 'vessel',\n",
       " 'segment.',\n",
       " 'These',\n",
       " 'data',\n",
       " 'were',\n",
       " 'converted',\n",
       " 'to',\n",
       " 'standard',\n",
       " 'triangulation',\n",
       " 'language',\n",
       " '(STL)',\n",
       " 'surface',\n",
       " 'data',\n",
       " 'as',\n",
       " 'an',\n",
       " 'aggregation',\n",
       " 'of',\n",
       " 'fine',\n",
       " 'triangular',\n",
       " 'meshes',\n",
       " 'using',\n",
       " '3D',\n",
       " 'visualization',\n",
       " 'and',\n",
       " 'measurement',\n",
       " 'software',\n",
       " '(Amira',\n",
       " 'version',\n",
       " 'X,',\n",
       " 'FEI,',\n",
       " 'Burlington,',\n",
       " 'MA,',\n",
       " 'USA).',\n",
       " 'An',\n",
       " 'unstructured',\n",
       " 'computational',\n",
       " 'volumetric',\n",
       " 'mesh',\n",
       " 'was',\n",
       " 'constructed',\n",
       " 'from',\n",
       " 'the',\n",
       " 'triangulated',\n",
       " 'surface.',\n",
       " 'Smoothing',\n",
       " 'and',\n",
       " 'remeshing',\n",
       " 'followed',\n",
       " 'as',\n",
       " 'next',\n",
       " 'steps.',\n",
       " 'The',\n",
       " 'STL',\n",
       " 'file',\n",
       " 'was',\n",
       " 'then',\n",
       " 'transferred',\n",
       " 'to',\n",
       " 'a',\n",
       " '3D',\n",
       " 'printer',\n",
       " '(OBJET30',\n",
       " 'Pro;',\n",
       " 'Stratasys',\n",
       " 'Ltd.,',\n",
       " 'Eden',\n",
       " 'Prairie,',\n",
       " 'MN,',\n",
       " 'USA).',\n",
       " 'The',\n",
       " 'resolution',\n",
       " 'of',\n",
       " 'the',\n",
       " 'build',\n",
       " 'layer',\n",
       " 'was',\n",
       " '0.028mm,',\n",
       " 'and',\n",
       " 'the',\n",
       " '3D',\n",
       " 'printed',\n",
       " 'vessel',\n",
       " 'model',\n",
       " 'was',\n",
       " 'produced',\n",
       " 'using',\n",
       " 'acrylic',\n",
       " 'resin',\n",
       " '(Vero).',\n",
       " 'Following',\n",
       " 'immersion',\n",
       " 'in',\n",
       " 'water',\n",
       " 'for',\n",
       " 'a',\n",
       " 'few',\n",
       " 'hours,',\n",
       " 'the',\n",
       " 'surface',\n",
       " 'of',\n",
       " 'the',\n",
       " '3D',\n",
       " 'printed',\n",
       " 'model',\n",
       " 'was',\n",
       " 'smoothed',\n",
       " 'by',\n",
       " 'manually',\n",
       " 'removing',\n",
       " 'spicule.']"
      ]
     },
     "execution_count": 21,
     "metadata": {},
     "output_type": "execute_result"
    }
   ],
   "source": [
    "paragraph.split(' ')"
   ]
  }
 ],
 "metadata": {
  "kernelspec": {
   "display_name": "Python (py35)",
   "language": "python",
   "name": "py35"
  },
  "language_info": {
   "codemirror_mode": {
    "name": "ipython",
    "version": 3
   },
   "file_extension": ".py",
   "mimetype": "text/x-python",
   "name": "python",
   "nbconvert_exporter": "python",
   "pygments_lexer": "ipython3",
   "version": "3.5.3"
  }
 },
 "nbformat": 4,
 "nbformat_minor": 2
}
