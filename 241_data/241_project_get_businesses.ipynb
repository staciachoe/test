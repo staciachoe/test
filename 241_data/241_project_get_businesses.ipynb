{
 "cells": [
  {
   "cell_type": "code",
   "execution_count": 1,
   "metadata": {},
   "outputs": [],
   "source": [
    "from urllib2 import Request, urlopen, URLError\n",
    "import re\n",
    "from lxml import html\n",
    "import requests\n",
    "from bs4 import BeautifulSoup\n",
    "import random\n",
    "\n",
    "#import psycopg2"
   ]
  },
  {
   "cell_type": "code",
   "execution_count": 2,
   "metadata": {},
   "outputs": [],
   "source": [
    "list_of_cities = ['Alameda','Albany','American Canyon','Antioch','Atherton','Belmont','Belvedere','Benicia','Berkeley','Brentwood','Brisbane','Burlingame','Calistoga','Campbell','Clayton','Cloverdale','Colma','Concord','Corte Madera','Cotati','Cupertino','Daly City','Danville','Dixon','Dublin','East Palo Alto','El Cerrito','Emeryville','Fairfax','Fairfield','Foster City','Fremont','Gilroy','Half Moon Bay','Hayward','Healdsburg','Hercules','Hillsborough','Lafayette','Larkspur','Livermore','Los Altos','Los Altos Hills','Los Gatos','Martinez','Menlo Park','Mill Valley','Millbrae','Milpitas','Monte Sereno','Moraga','Morgan Hill','Mountain View','Napa','Newark','Novato','Oakland','Oakley','Orinda','Pacifica','Palo Alto','Piedmont','Pinole','Pittsburg','Pleasant Hill','Pleasanton','Portola Valley','Redwood City','Richmond','Rio Vista','Rohnert Park','Ross','St. Helena','San Anselmo','San Bruno','San Carlos','San Francisco','San Jose','San Leandro','San Mateo','San Pablo','San Rafael','San Ramon','Santa Clara','Santa Rosa','Saratoga','Sausalito','Sebastopol','Sonoma','South San Francisco','Suisun City','Sunnyvale','Tiburon','Union City','Vacaville','Vallejo','Walnut Creek','Windsor','Woodside','Yountville']\n",
    "#list_of_cities = ['San Francisco']\n",
    "#list_of_cities = ['San Francisco', 'San Jose']\n"
   ]
  },
  {
   "cell_type": "code",
   "execution_count": 3,
   "metadata": {
    "scrolled": false
   },
   "outputs": [
    {
     "name": "stdout",
     "output_type": "stream",
     "text": [
      "('Alameda', '0 total businesses so far')\n",
      "--> page 1\n",
      "--> page 2\n",
      "--> page 3\n",
      "--> page 4\n",
      "--> page 5\n",
      "--> page 6\n",
      "--> page 7\n",
      "--> page 8\n",
      "--> page 9\n",
      "--> page 10\n",
      "--> page 11\n",
      "--> page 12\n",
      "--> page 13\n",
      "--> page 14\n",
      "--> page 15\n",
      "--> page 16\n",
      "--> page 17\n",
      "--> page 18\n",
      "--> page 19\n",
      "--> page 20\n",
      "--> page 21\n",
      "--> page 22\n",
      "--> page 23\n",
      "--> page 24\n",
      "--> page 25\n",
      "--> page 26\n",
      "--> page 27\n",
      "--> page 28\n",
      "--> page 29\n",
      "--> page 30\n",
      "--> page 31\n"
     ]
    },
    {
     "ename": "KeyboardInterrupt",
     "evalue": "",
     "output_type": "error",
     "traceback": [
      "\u001b[0;31m---------------------------------------------------------------------------\u001b[0m",
      "\u001b[0;31mKeyboardInterrupt\u001b[0m                         Traceback (most recent call last)",
      "\u001b[0;32m<ipython-input-3-945c468b7719>\u001b[0m in \u001b[0;36m<module>\u001b[0;34m()\u001b[0m\n\u001b[1;32m     35\u001b[0m         \u001b[0mrequest\u001b[0m \u001b[0;34m=\u001b[0m \u001b[0mRequest\u001b[0m\u001b[0;34m(\u001b[0m\u001b[0mrequestedsite\u001b[0m\u001b[0;34m)\u001b[0m\u001b[0;34m\u001b[0m\u001b[0m\n\u001b[1;32m     36\u001b[0m         \u001b[0mresponse\u001b[0m \u001b[0;34m=\u001b[0m \u001b[0murlopen\u001b[0m\u001b[0;34m(\u001b[0m\u001b[0mrequest\u001b[0m\u001b[0;34m)\u001b[0m\u001b[0;34m\u001b[0m\u001b[0m\n\u001b[0;32m---> 37\u001b[0;31m         \u001b[0mgroupslist\u001b[0m \u001b[0;34m=\u001b[0m  \u001b[0mresponse\u001b[0m\u001b[0;34m.\u001b[0m\u001b[0mread\u001b[0m\u001b[0;34m(\u001b[0m\u001b[0;34m)\u001b[0m\u001b[0;34m.\u001b[0m\u001b[0msplit\u001b[0m\u001b[0;34m(\u001b[0m\u001b[0;34m\"\\n\"\u001b[0m\u001b[0;34m)\u001b[0m\u001b[0;34m\u001b[0m\u001b[0m\n\u001b[0m\u001b[1;32m     38\u001b[0m         \u001b[0;32mif\u001b[0m \u001b[0;34m(\u001b[0m\u001b[0many\u001b[0m\u001b[0;34m(\u001b[0m\u001b[0mre\u001b[0m\u001b[0;34m.\u001b[0m\u001b[0mmatch\u001b[0m\u001b[0;34m(\u001b[0m\u001b[0;34mr'.*class=\"business-name\"><span itemprop=\"name\">(\\S.*?)<'\u001b[0m\u001b[0;34m,\u001b[0m \u001b[0mitem\u001b[0m\u001b[0;34m)\u001b[0m \u001b[0;32mfor\u001b[0m \u001b[0mitem\u001b[0m \u001b[0;32min\u001b[0m \u001b[0mgroupslist\u001b[0m\u001b[0;34m)\u001b[0m\u001b[0;34m)\u001b[0m \u001b[0;34m:\u001b[0m\u001b[0;34m\u001b[0m\u001b[0m\n\u001b[1;32m     39\u001b[0m             \u001b[0;32mpass\u001b[0m\u001b[0;34m\u001b[0m\u001b[0m\n",
      "\u001b[0;32m/home/chost/anaconda2/lib/python2.7/socket.pyc\u001b[0m in \u001b[0;36mread\u001b[0;34m(self, size)\u001b[0m\n\u001b[1;32m    353\u001b[0m             \u001b[0;32mwhile\u001b[0m \u001b[0mTrue\u001b[0m\u001b[0;34m:\u001b[0m\u001b[0;34m\u001b[0m\u001b[0m\n\u001b[1;32m    354\u001b[0m                 \u001b[0;32mtry\u001b[0m\u001b[0;34m:\u001b[0m\u001b[0;34m\u001b[0m\u001b[0m\n\u001b[0;32m--> 355\u001b[0;31m                     \u001b[0mdata\u001b[0m \u001b[0;34m=\u001b[0m \u001b[0mself\u001b[0m\u001b[0;34m.\u001b[0m\u001b[0m_sock\u001b[0m\u001b[0;34m.\u001b[0m\u001b[0mrecv\u001b[0m\u001b[0;34m(\u001b[0m\u001b[0mrbufsize\u001b[0m\u001b[0;34m)\u001b[0m\u001b[0;34m\u001b[0m\u001b[0m\n\u001b[0m\u001b[1;32m    356\u001b[0m                 \u001b[0;32mexcept\u001b[0m \u001b[0merror\u001b[0m\u001b[0;34m,\u001b[0m \u001b[0me\u001b[0m\u001b[0;34m:\u001b[0m\u001b[0;34m\u001b[0m\u001b[0m\n\u001b[1;32m    357\u001b[0m                     \u001b[0;32mif\u001b[0m \u001b[0me\u001b[0m\u001b[0;34m.\u001b[0m\u001b[0margs\u001b[0m\u001b[0;34m[\u001b[0m\u001b[0;36m0\u001b[0m\u001b[0;34m]\u001b[0m \u001b[0;34m==\u001b[0m \u001b[0mEINTR\u001b[0m\u001b[0;34m:\u001b[0m\u001b[0;34m\u001b[0m\u001b[0m\n",
      "\u001b[0;32m/home/chost/anaconda2/lib/python2.7/httplib.pyc\u001b[0m in \u001b[0;36mread\u001b[0;34m(self, amt)\u001b[0m\n\u001b[1;32m    595\u001b[0m         \u001b[0;31m# connection, and the user is reading more bytes than will be provided\u001b[0m\u001b[0;34m\u001b[0m\u001b[0;34m\u001b[0m\u001b[0m\n\u001b[1;32m    596\u001b[0m         \u001b[0;31m# (for example, reading in 1k chunks)\u001b[0m\u001b[0;34m\u001b[0m\u001b[0;34m\u001b[0m\u001b[0m\n\u001b[0;32m--> 597\u001b[0;31m         \u001b[0ms\u001b[0m \u001b[0;34m=\u001b[0m \u001b[0mself\u001b[0m\u001b[0;34m.\u001b[0m\u001b[0mfp\u001b[0m\u001b[0;34m.\u001b[0m\u001b[0mread\u001b[0m\u001b[0;34m(\u001b[0m\u001b[0mamt\u001b[0m\u001b[0;34m)\u001b[0m\u001b[0;34m\u001b[0m\u001b[0m\n\u001b[0m\u001b[1;32m    598\u001b[0m         \u001b[0;32mif\u001b[0m \u001b[0;32mnot\u001b[0m \u001b[0ms\u001b[0m \u001b[0;32mand\u001b[0m \u001b[0mamt\u001b[0m\u001b[0;34m:\u001b[0m\u001b[0;34m\u001b[0m\u001b[0m\n\u001b[1;32m    599\u001b[0m             \u001b[0;31m# Ideally, we would raise IncompleteRead if the content-length\u001b[0m\u001b[0;34m\u001b[0m\u001b[0;34m\u001b[0m\u001b[0m\n",
      "\u001b[0;32m/home/chost/anaconda2/lib/python2.7/socket.pyc\u001b[0m in \u001b[0;36mread\u001b[0;34m(self, size)\u001b[0m\n\u001b[1;32m    382\u001b[0m                 \u001b[0;31m# fragmentation issues on many platforms.\u001b[0m\u001b[0;34m\u001b[0m\u001b[0;34m\u001b[0m\u001b[0m\n\u001b[1;32m    383\u001b[0m                 \u001b[0;32mtry\u001b[0m\u001b[0;34m:\u001b[0m\u001b[0;34m\u001b[0m\u001b[0m\n\u001b[0;32m--> 384\u001b[0;31m                     \u001b[0mdata\u001b[0m \u001b[0;34m=\u001b[0m \u001b[0mself\u001b[0m\u001b[0;34m.\u001b[0m\u001b[0m_sock\u001b[0m\u001b[0;34m.\u001b[0m\u001b[0mrecv\u001b[0m\u001b[0;34m(\u001b[0m\u001b[0mleft\u001b[0m\u001b[0;34m)\u001b[0m\u001b[0;34m\u001b[0m\u001b[0m\n\u001b[0m\u001b[1;32m    385\u001b[0m                 \u001b[0;32mexcept\u001b[0m \u001b[0merror\u001b[0m\u001b[0;34m,\u001b[0m \u001b[0me\u001b[0m\u001b[0;34m:\u001b[0m\u001b[0;34m\u001b[0m\u001b[0m\n\u001b[1;32m    386\u001b[0m                     \u001b[0;32mif\u001b[0m \u001b[0me\u001b[0m\u001b[0;34m.\u001b[0m\u001b[0margs\u001b[0m\u001b[0;34m[\u001b[0m\u001b[0;36m0\u001b[0m\u001b[0;34m]\u001b[0m \u001b[0;34m==\u001b[0m \u001b[0mEINTR\u001b[0m\u001b[0;34m:\u001b[0m\u001b[0;34m\u001b[0m\u001b[0m\n",
      "\u001b[0;32m/home/chost/anaconda2/lib/python2.7/ssl.pyc\u001b[0m in \u001b[0;36mrecv\u001b[0;34m(self, buflen, flags)\u001b[0m\n\u001b[1;32m    764\u001b[0m                     \u001b[0;34m\"non-zero flags not allowed in calls to recv() on %s\"\u001b[0m \u001b[0;34m%\u001b[0m\u001b[0;34m\u001b[0m\u001b[0m\n\u001b[1;32m    765\u001b[0m                     self.__class__)\n\u001b[0;32m--> 766\u001b[0;31m             \u001b[0;32mreturn\u001b[0m \u001b[0mself\u001b[0m\u001b[0;34m.\u001b[0m\u001b[0mread\u001b[0m\u001b[0;34m(\u001b[0m\u001b[0mbuflen\u001b[0m\u001b[0;34m)\u001b[0m\u001b[0;34m\u001b[0m\u001b[0m\n\u001b[0m\u001b[1;32m    767\u001b[0m         \u001b[0;32melse\u001b[0m\u001b[0;34m:\u001b[0m\u001b[0;34m\u001b[0m\u001b[0m\n\u001b[1;32m    768\u001b[0m             \u001b[0;32mreturn\u001b[0m \u001b[0mself\u001b[0m\u001b[0;34m.\u001b[0m\u001b[0m_sock\u001b[0m\u001b[0;34m.\u001b[0m\u001b[0mrecv\u001b[0m\u001b[0;34m(\u001b[0m\u001b[0mbuflen\u001b[0m\u001b[0;34m,\u001b[0m \u001b[0mflags\u001b[0m\u001b[0;34m)\u001b[0m\u001b[0;34m\u001b[0m\u001b[0m\n",
      "\u001b[0;32m/home/chost/anaconda2/lib/python2.7/ssl.pyc\u001b[0m in \u001b[0;36mread\u001b[0;34m(self, len, buffer)\u001b[0m\n\u001b[1;32m    651\u001b[0m                 \u001b[0mv\u001b[0m \u001b[0;34m=\u001b[0m \u001b[0mself\u001b[0m\u001b[0;34m.\u001b[0m\u001b[0m_sslobj\u001b[0m\u001b[0;34m.\u001b[0m\u001b[0mread\u001b[0m\u001b[0;34m(\u001b[0m\u001b[0mlen\u001b[0m\u001b[0;34m,\u001b[0m \u001b[0mbuffer\u001b[0m\u001b[0;34m)\u001b[0m\u001b[0;34m\u001b[0m\u001b[0m\n\u001b[1;32m    652\u001b[0m             \u001b[0;32melse\u001b[0m\u001b[0;34m:\u001b[0m\u001b[0;34m\u001b[0m\u001b[0m\n\u001b[0;32m--> 653\u001b[0;31m                 \u001b[0mv\u001b[0m \u001b[0;34m=\u001b[0m \u001b[0mself\u001b[0m\u001b[0;34m.\u001b[0m\u001b[0m_sslobj\u001b[0m\u001b[0;34m.\u001b[0m\u001b[0mread\u001b[0m\u001b[0;34m(\u001b[0m\u001b[0mlen\u001b[0m\u001b[0;34m)\u001b[0m\u001b[0;34m\u001b[0m\u001b[0m\n\u001b[0m\u001b[1;32m    654\u001b[0m             \u001b[0;32mreturn\u001b[0m \u001b[0mv\u001b[0m\u001b[0;34m\u001b[0m\u001b[0m\n\u001b[1;32m    655\u001b[0m         \u001b[0;32mexcept\u001b[0m \u001b[0mSSLError\u001b[0m \u001b[0;32mas\u001b[0m \u001b[0mx\u001b[0m\u001b[0;34m:\u001b[0m\u001b[0;34m\u001b[0m\u001b[0m\n",
      "\u001b[0;31mKeyboardInterrupt\u001b[0m: "
     ]
    }
   ],
   "source": [
    "# GET THE COMPLETE LIST OF BUSINESSES IN THE BAY AREA \n",
    "\n",
    "# search terms are : day care, gardener, plumber, house cleaning, auto repair, math tutoring\n",
    "# must put a '+' where there is a space, e.g. house+cleaning\n",
    "\n",
    "\n",
    "##\n",
    "topic=\"day+care\"\n",
    "topic=\"babysitting\"\n",
    "##\n",
    "topic=\"gardener\"\n",
    "topic=\"landscaping\"\n",
    "##\n",
    "topic=\"plumber\"\n",
    "##\n",
    "topic=\"house+cleaning\"\n",
    "topic=\"maid+service\"\n",
    "##\n",
    "topic=\"auto+repair\"\n",
    "## \n",
    "topic=\"math+tutoring\"\n",
    "##\n",
    "\n",
    "patterns=re.compile(r'=\"(\\S.*?lid.*?)\".*?class=\"business-name\"><span itemprop=\"name\">(\\S.*?)<')  \n",
    "\n",
    "mydict = {}\n",
    "for city in list_of_cities :\n",
    "    print (city, str(len(mydict)) + \" total businesses so far\")\n",
    "    pagenum = 0\n",
    "    while (1) :\n",
    "        pagenum = pagenum + 1\n",
    "        print \"--> page \" + str(pagenum)\n",
    "        city = city.replace(\" \", \"%20\")\n",
    "        requestedsite = \"https://www.yellowpages.com/search?search_terms=\"+topic+ \"&geo_location_terms=\" + city + \"%2C+CA&page=\" + str(pagenum)\n",
    "        request = Request(requestedsite)\n",
    "        response = urlopen(request)\n",
    "        groupslist =  response.read().split(\"\\n\")\n",
    "        if (any(re.match(r'.*class=\"business-name\"><span itemprop=\"name\">(\\S.*?)<', item) for item in groupslist)) :\n",
    "            pass\n",
    "        else :\n",
    "            break\n",
    "        for i in groupslist:\n",
    "            itoks = i.split(\"href\")\n",
    "            for itokk in itoks :\n",
    "                matchO = re.match(patterns, itokk)\n",
    "                if matchO and matchO.group(1) :\n",
    "                    mydict[matchO.group(2)] = matchO.group(1)\n",
    "            \n",
    "\n"
   ]
  },
  {
   "cell_type": "code",
   "execution_count": null,
   "metadata": {
    "scrolled": true
   },
   "outputs": [],
   "source": [
    "#EXTRACT EMAILS AND COMPANY WEBSITE\n",
    "\n",
    "website_dict = {}\n",
    "email_dict = {}\n",
    "all = len(mydict)\n",
    "cnt = 0\n",
    "\n",
    "for site in mydict :\n",
    "    cnt = cnt + 1\n",
    "    company_website = None\n",
    "    email = None\n",
    "    subrequestsite = \"https://www.yellowpages.com\" + mydict[site]\n",
    "    print str(cnt) + \"/\" + str(all), site\n",
    "    request = Request(subrequestsite)\n",
    "    response = urlopen(request)\n",
    "    groupslist =  response.read().split(\"\\n\")    \n",
    "    \n",
    "    for i in groupslist:\n",
    "                matchO = re.match(r'.*LOC\\\":\\\"(.*?)\\\".*Visit Website', i)\n",
    "                if matchO and matchO.group(1) :\n",
    "                    company_website = matchO.group(1)\n",
    "                if email == None :\n",
    "                    matchO = re.match(r'.*?mailto:(.*?)\\\"', i)\n",
    "                    if matchO and matchO.group(1) :\n",
    "                        email = matchO.group(1)\n",
    "    email_dict[site] = email\n",
    "    website_dict[site] = company_website\n",
    "                "
   ]
  },
  {
   "cell_type": "code",
   "execution_count": null,
   "metadata": {},
   "outputs": [],
   "source": [
    "randomized_businesses = mydict.keys()\n",
    "\n",
    "# keep this seed\n",
    "seed = 100\n",
    "random.seed(seed)\n",
    "\n",
    "random.shuffle(randomized_businesses)\n",
    "\n",
    "F = open(\"businesses_\" + topic+\".txt\",\"w\")\n",
    "\n",
    "for i in randomized_businesses :\n",
    "    website = \"NA\"\n",
    "    email = \"NA\"\n",
    "    if i in website_dict :\n",
    "        website = website_dict[i]\n",
    "    if i in email_dict :\n",
    "        email = email_dict[i]\n",
    "    if website is None :\n",
    "        website = \"NA\"\n",
    "    if email is None :\n",
    "        email = \"NA\"\n",
    "    F.write(\"\\n\"+i+\"\\twww.yellowpages.com\"+mydict[i]+\"\\t\"+website+\"\\t\"+email)\n",
    "\n",
    "F.close()"
   ]
  }
 ],
 "metadata": {
  "kernelspec": {
   "display_name": "Python 2",
   "language": "python",
   "name": "python2"
  },
  "language_info": {
   "codemirror_mode": {
    "name": "ipython",
    "version": 2
   },
   "file_extension": ".py",
   "mimetype": "text/x-python",
   "name": "python",
   "nbconvert_exporter": "python",
   "pygments_lexer": "ipython2",
   "version": "2.7.13"
  }
 },
 "nbformat": 4,
 "nbformat_minor": 2
}
