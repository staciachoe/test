{
 "cells": [
  {
   "cell_type": "code",
   "execution_count": 25,
   "metadata": {
    "collapsed": true
   },
   "outputs": [],
   "source": [
    "import pandas as pd\n",
    "import os"
   ]
  },
  {
   "cell_type": "code",
   "execution_count": 1,
   "metadata": {
    "collapsed": true
   },
   "outputs": [],
   "source": [
    "import smtplib\n",
    " \n",
    "def sendemail(from_addr, to_addr_list, cc_addr_list,\n",
    "              subject, message,\n",
    "              login, password,\n",
    "              smtpserver='smtp.gmail.com:587'):\n",
    "    header  = 'From: %s\\n' % from_addr\n",
    "    header += 'To: %s\\n' % ','.join(to_addr_list)\n",
    "    header += 'Cc: %s\\n' % ','.join(cc_addr_list)\n",
    "    header += 'Subject: %s\\n\\n' % subject\n",
    "    message = header + message\n",
    " \n",
    "    server = smtplib.SMTP(smtpserver)\n",
    "    server.ehlo()\n",
    "    server.starttls()\n",
    "    server.login(login,password)\n",
    "    problems = server.sendmail(from_addr, to_addr_list, message)\n",
    "    server.quit()\n",
    "    return problems"
   ]
  },
  {
   "cell_type": "code",
   "execution_count": 70,
   "metadata": {
    "collapsed": false
   },
   "outputs": [],
   "source": [
    "def send_math_email(from_addr, to_addr):\n",
    "    # Identify the first name to use\n",
    "    [first_name, junk, junk2] = from_addr.split('.')\n",
    "    first_name = first_name.capitalize()\n",
    "    # Identify the login to use\n",
    "    [login, junk] = from_addr.split('@')\n",
    "    \n",
    "    sendemail(from_addr= from_addr, \n",
    "          to_addr_list = [to_addr],\n",
    "          cc_addr_list = [],\n",
    "          subject      = 'Cost for a Tutoring Session', \n",
    "          message      = 'Hi,\\n\\nI am looking to get a Math tutor for my 15 year old. What\\'s the hourly rate do you charge?\\n\\nThanks,\\n\\n%s' % first_name,          \n",
    "          login        = login, \n",
    "          password     = 'asdfjkl123')"
   ]
  },
  {
   "cell_type": "code",
   "execution_count": 53,
   "metadata": {
    "collapsed": false
   },
   "outputs": [],
   "source": [
    "root_path = r'C:\\Users\\kasey\\OneDrive\\Documents\\MIDS\\fall_2017\\w241\\241_data'\n",
    "\n",
    "# Read tutoring businesses\n",
    "tutor_path = os.path.join(root_path, 'businesses_math+tutoring.txt')\n",
    "tutor_info = pd.read_table(bus_path, '\\t', header=None, names=['name','yellowpage','website','email'])\n",
    "# Read fake email addresses\n",
    "email_path = os.path.join(root_path, 'name_list.txt')\n",
    "email_info = pd.read_table(email_path, '\\t', header=None, names=['name','email'])\n",
    "email_info = email_info.dropna()"
   ]
  },
  {
   "cell_type": "code",
   "execution_count": 44,
   "metadata": {
    "collapsed": false
   },
   "outputs": [],
   "source": [
    "# Only keep the businesses with email address, could lead to selection bias\n",
    "sub_tutor_info = tutor_info.dropna()"
   ]
  },
  {
   "cell_type": "code",
   "execution_count": 54,
   "metadata": {
    "collapsed": false
   },
   "outputs": [
    {
     "data": {
      "text/html": [
       "<div>\n",
       "<table border=\"1\" class=\"dataframe\">\n",
       "  <thead>\n",
       "    <tr style=\"text-align: right;\">\n",
       "      <th></th>\n",
       "      <th>name</th>\n",
       "      <th>email</th>\n",
       "    </tr>\n",
       "  </thead>\n",
       "  <tbody>\n",
       "    <tr>\n",
       "      <th>0</th>\n",
       "      <td>James Hoyt</td>\n",
       "      <td>james.hoyt1124@gmail.com</td>\n",
       "    </tr>\n",
       "    <tr>\n",
       "      <th>1</th>\n",
       "      <td>Sarah Anderson</td>\n",
       "      <td>sarah.anderson1124@gmail.com</td>\n",
       "    </tr>\n",
       "    <tr>\n",
       "      <th>3</th>\n",
       "      <td>Maria Rodriguez</td>\n",
       "      <td>maria.rodriguez112453@gmail.com</td>\n",
       "    </tr>\n",
       "    <tr>\n",
       "      <th>4</th>\n",
       "      <td>Juan Sanchez</td>\n",
       "      <td>juan.sanchez112453@gmail.com</td>\n",
       "    </tr>\n",
       "    <tr>\n",
       "      <th>6</th>\n",
       "      <td>Michelle Chen</td>\n",
       "      <td>michelle.chen112453@gmail.com</td>\n",
       "    </tr>\n",
       "  </tbody>\n",
       "</table>\n",
       "</div>"
      ],
      "text/plain": [
       "              name                            email\n",
       "0       James Hoyt         james.hoyt1124@gmail.com\n",
       "1   Sarah Anderson     sarah.anderson1124@gmail.com\n",
       "3  Maria Rodriguez  maria.rodriguez112453@gmail.com\n",
       "4     Juan Sanchez     juan.sanchez112453@gmail.com\n",
       "6    Michelle Chen    michelle.chen112453@gmail.com"
      ]
     },
     "execution_count": 54,
     "metadata": {},
     "output_type": "execute_result"
    }
   ],
   "source": [
    "email_info.head()"
   ]
  },
  {
   "cell_type": "code",
   "execution_count": 55,
   "metadata": {
    "collapsed": false,
    "scrolled": true
   },
   "outputs": [
    {
     "data": {
      "text/html": [
       "<div>\n",
       "<table border=\"1\" class=\"dataframe\">\n",
       "  <thead>\n",
       "    <tr style=\"text-align: right;\">\n",
       "      <th></th>\n",
       "      <th>name</th>\n",
       "      <th>yellowpage</th>\n",
       "      <th>website</th>\n",
       "      <th>email</th>\n",
       "    </tr>\n",
       "  </thead>\n",
       "  <tbody>\n",
       "    <tr>\n",
       "      <th>1</th>\n",
       "      <td>Learning Plus</td>\n",
       "      <td>www.yellowpages.com/san-jose-ca/mip/learning-p...</td>\n",
       "      <td>http://www.learningplustutoring.com</td>\n",
       "      <td>web@www.learningplustutoring.com</td>\n",
       "    </tr>\n",
       "    <tr>\n",
       "      <th>2</th>\n",
       "      <td>Kumon Math and Reading Center of Cupertino - West</td>\n",
       "      <td>www.yellowpages.com/cupertino-ca/mip/kumon-mat...</td>\n",
       "      <td>http://www.kumon.com/CUPERTINO-WEST-CA</td>\n",
       "      <td>cupertinowest_ca@ikumon.com</td>\n",
       "    </tr>\n",
       "    <tr>\n",
       "      <th>8</th>\n",
       "      <td>The Lantern</td>\n",
       "      <td>www.yellowpages.com/san-francisco-ca/mip/the-l...</td>\n",
       "      <td>http://www.thelantern.com</td>\n",
       "      <td>buckeye.1@osu.edu</td>\n",
       "    </tr>\n",
       "    <tr>\n",
       "      <th>9</th>\n",
       "      <td>Horizon Family Solutions</td>\n",
       "      <td>www.yellowpages.com/nationwide/mip/horizon-fam...</td>\n",
       "      <td>http://www.horizonfamilysolutions.com</td>\n",
       "      <td>dore@dorefrances.com</td>\n",
       "    </tr>\n",
       "    <tr>\n",
       "      <th>10</th>\n",
       "      <td>Oakland International High</td>\n",
       "      <td>www.yellowpages.com/oakland-ca/mip/oakland-int...</td>\n",
       "      <td>http://www.oaklandinternational.org</td>\n",
       "      <td>SMakaremi@oaklandinternational.org</td>\n",
       "    </tr>\n",
       "  </tbody>\n",
       "</table>\n",
       "</div>"
      ],
      "text/plain": [
       "                                                 name  \\\n",
       "1                                       Learning Plus   \n",
       "2   Kumon Math and Reading Center of Cupertino - West   \n",
       "8                                         The Lantern   \n",
       "9                            Horizon Family Solutions   \n",
       "10                         Oakland International High   \n",
       "\n",
       "                                           yellowpage  \\\n",
       "1   www.yellowpages.com/san-jose-ca/mip/learning-p...   \n",
       "2   www.yellowpages.com/cupertino-ca/mip/kumon-mat...   \n",
       "8   www.yellowpages.com/san-francisco-ca/mip/the-l...   \n",
       "9   www.yellowpages.com/nationwide/mip/horizon-fam...   \n",
       "10  www.yellowpages.com/oakland-ca/mip/oakland-int...   \n",
       "\n",
       "                                   website                               email  \n",
       "1      http://www.learningplustutoring.com    web@www.learningplustutoring.com  \n",
       "2   http://www.kumon.com/CUPERTINO-WEST-CA         cupertinowest_ca@ikumon.com  \n",
       "8                http://www.thelantern.com                   buckeye.1@osu.edu  \n",
       "9    http://www.horizonfamilysolutions.com                dore@dorefrances.com  \n",
       "10     http://www.oaklandinternational.org  SMakaremi@oaklandinternational.org  "
      ]
     },
     "execution_count": 55,
     "metadata": {},
     "output_type": "execute_result"
    }
   ],
   "source": [
    "sub_tutor_info.head()"
   ]
  },
  {
   "cell_type": "code",
   "execution_count": 79,
   "metadata": {
    "collapsed": false
   },
   "outputs": [],
   "source": [
    "for email in sub_tutor_info.email[:5]:\n",
    "    send_math_email(email_info.email[0], email)"
   ]
  }
 ],
 "metadata": {
  "kernelspec": {
   "display_name": "Python 2",
   "language": "python",
   "name": "python2"
  },
  "language_info": {
   "codemirror_mode": {
    "name": "ipython",
    "version": 2
   },
   "file_extension": ".py",
   "mimetype": "text/x-python",
   "name": "python",
   "nbconvert_exporter": "python",
   "pygments_lexer": "ipython2",
   "version": "2.7.13"
  }
 },
 "nbformat": 4,
 "nbformat_minor": 2
}
